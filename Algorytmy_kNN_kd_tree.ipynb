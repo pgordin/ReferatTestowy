{
  "nbformat": 4,
  "nbformat_minor": 0,
  "metadata": {
    "colab": {
      "name": "Algorytmy_kNN_kd_tree.ipynb",
      "provenance": [],
      "collapsed_sections": [],
      "authorship_tag": "ABX9TyPXrCkUgGbqUjoXSmAaqmSk",
      "include_colab_link": true
    },
    "kernelspec": {
      "name": "python3",
      "display_name": "Python 3"
    },
    "language_info": {
      "name": "python"
    }
  },
  "cells": [
    {
      "cell_type": "markdown",
      "metadata": {
        "id": "view-in-github",
        "colab_type": "text"
      },
      "source": [
        "<a href=\"https://colab.research.google.com/github/pgordin/ReferatTestowy/blob/main/Algorytmy_kNN_kd_tree.ipynb\" target=\"_parent\"><img src=\"https://colab.research.google.com/assets/colab-badge.svg\" alt=\"Open In Colab\"/></a>"
      ]
    },
    {
      "cell_type": "markdown",
      "source": [
        "# Sortowanie\n",
        "\n",
        "## Zadanie\n",
        "\n",
        "Zaimplementować prosty algorytm sortowania (bąbelkowe, przez wstawianie)."
      ],
      "metadata": {
        "id": "WmuDGjqLNcnN"
      }
    },
    {
      "cell_type": "code",
      "source": [
        "import numpy as np\n",
        "\n",
        "#lista\n",
        "tablica1 = [np.random.randint(1, 100000) for i in range(0,10)]\n",
        "tablica2 = tablica1.copy()\n",
        "tablica2.sort()\n",
        "print(tablica1)\n",
        "print(tablica2)\n",
        "\n",
        "# sortowanie bąbelkowe\n",
        "def bubblesort(tablica):\n",
        "  for j in range(len(tablica)):\n",
        "    for i in range(1, len(tablica)):\n",
        "      if tablica[i-1] > tablica[i]:\n",
        "        tablica[i-1], tablica[i] = tablica[i], tablica[i-1]\n",
        "  return tablica\n",
        "\n",
        "def bubblesort2(tablica):\n",
        "  zmiana = True\n",
        "  while zmiana:\n",
        "    zmiana = False\n",
        "    for i in range(1, len(tablica)):\n",
        "      if tablica[i-1] > tablica[i]:\n",
        "        tablica[i-1], tablica[i] = tablica[i], tablica[i-1]\n",
        "        zmiana = True\n",
        "  return tablica\n",
        "\n",
        "# sortowanie przez wstawianie\n",
        "def insertionsort(tablica):\n",
        "  for i in range(1, len(tablica)):\n",
        "    x = tablica[i]\n",
        "    j = i-1\n",
        "    while j >=0 and tablica[j] > x:\n",
        "      tablica[j+1] = tablica[j]\n",
        "      j -= 1\n",
        "    tablica[j+1] = x\n",
        "  return tablica\n",
        "\n",
        "tablica2 = tablica1.copy()\n",
        "bubblesort2(tablica2)\n",
        "print(tablica2)\n",
        "\n",
        "tablica2 = tablica1.copy()\n",
        "insertionsort(tablica2)\n",
        "print(tablica2)\n",
        "\n"
      ],
      "metadata": {
        "colab": {
          "base_uri": "https://localhost:8080/"
        },
        "id": "2b_y1i-BNdTf",
        "outputId": "6690b683-b621-49d8-b352-fa8bfe0044e2"
      },
      "execution_count": 1,
      "outputs": [
        {
          "output_type": "stream",
          "name": "stdout",
          "text": [
            "[66698, 83139, 66608, 24226, 3935, 42917, 2962, 83627, 75538, 38709]\n",
            "[2962, 3935, 24226, 38709, 42917, 66608, 66698, 75538, 83139, 83627]\n",
            "[2962, 3935, 24226, 38709, 42917, 66608, 66698, 75538, 83139, 83627]\n",
            "[2962, 3935, 24226, 38709, 42917, 66608, 66698, 75538, 83139, 83627]\n"
          ]
        }
      ]
    },
    {
      "cell_type": "code",
      "source": [
        "# jak szybko to działa\n",
        "n = 1000\n",
        "tablica1 = [np.random.randint(1, 100000) for i in range(0,n)]\n",
        "\n",
        "\n",
        "def test1(tablica1):\n",
        "  tablica2 = tablica1.copy()\n",
        "  tablica2.sort()\n",
        "\n",
        "%timeit test1(tablica1)\n",
        "\n",
        "def test2(tablica1, funkcja):\n",
        "  tablica2 = tablica1.copy()\n",
        "  funkcja(tablica2)\n",
        "\n",
        "%timeit test2(tablica1, bubblesort)\n",
        "%timeit test2(tablica1, bubblesort2)\n",
        "%timeit test2(tablica1, insertionsort)\n",
        "\n"
      ],
      "metadata": {
        "colab": {
          "base_uri": "https://localhost:8080/"
        },
        "id": "IE6UXkXS3cOH",
        "outputId": "e57e1ef3-efb4-461c-d2be-d6f8d79f894c"
      },
      "execution_count": 2,
      "outputs": [
        {
          "output_type": "stream",
          "name": "stdout",
          "text": [
            "1000 loops, best of 5: 247 µs per loop\n",
            "1 loop, best of 5: 368 ms per loop\n",
            "1 loop, best of 5: 326 ms per loop\n",
            "10 loops, best of 5: 106 ms per loop\n"
          ]
        }
      ]
    },
    {
      "cell_type": "markdown",
      "source": [
        "## Sortowanie szybkie"
      ],
      "metadata": {
        "id": "3ye4fjHYNx53"
      }
    },
    {
      "cell_type": "code",
      "source": [
        "\"\"\"\n",
        "QuickSort po mojemu\n",
        "\"\"\"\n",
        "\n",
        "def QuickSort(tablica):\n",
        "    # sortowanie szybkie\n",
        "    def QSort(d, g):\n",
        "        # pomocnicza procedura - sortuje fragment od d do g\n",
        "        i = d\n",
        "        j = g\n",
        "        x = tablica[np.random.randint(d, g+1)]\n",
        "        while i <= j:\n",
        "            while tablica[i] < x:\n",
        "                i += 1\n",
        "            while tablica[j] > x:\n",
        "                j -= 1\n",
        "            if i <= j:\n",
        "                tablica[i], tablica[j] = tablica[j], tablica[i]\n",
        "                i += 1\n",
        "                j -= 1\n",
        "        if d < j:\n",
        "            QSort(d, j)\n",
        "        if i < g:\n",
        "            QSort(i, g)\n",
        "\n",
        "    QSort(0, len(tablica)-1)"
      ],
      "metadata": {
        "id": "miEx_a_eN7C6"
      },
      "execution_count": 3,
      "outputs": []
    },
    {
      "cell_type": "code",
      "source": [
        "# Test lista\n",
        "tablica1 = [np.random.randint(1, 100000) for i in range(0,100)]\n",
        "tablica2 = tablica1.copy()\n",
        "print(tablica2.sort())\n",
        "print(tablica1)\n",
        "QuickSort(tablica1)\n",
        "print(tablica1)\n",
        "\n",
        "#numpy\n",
        "tablica3 = (np.random.randint(1, 100000, size = 100))\n",
        "tablica3.sort()\n",
        "print(tablica3)\n",
        "\n",
        "n = 10000\n",
        "\n",
        "def test1(n):\n",
        "  tablica1 = [np.random.randint(1, 100000) for i in range(0,n)]\n",
        "  QuickSort(tablica1)\n",
        "\n",
        "%timeit test1(n)\n",
        "\n",
        "def test2(n):\n",
        "  tablica1 = [np.random.randint(1, 100000) for i in range(0,n)]\n",
        "  tablica1.sort()\n",
        "\n",
        "%timeit test2(n)\n",
        "\n",
        "def test3(n):\n",
        "  tablica2 = (np.random.randint(1, 100000, size = n))\n",
        "  QuickSort(tablica2)\n",
        "\n",
        "%timeit test3(n)\n",
        "\n",
        "def test4(n):\n",
        "  tablica2 = (np.random.randint(1, 100000, size = n))\n",
        "  tablica2.sort()\n",
        "\n",
        "%timeit test4(n)\n"
      ],
      "metadata": {
        "colab": {
          "base_uri": "https://localhost:8080/"
        },
        "id": "HSz8A-ibOCFP",
        "outputId": "9d3ccc75-b0aa-436b-9dc0-c4ad23c8bdb4"
      },
      "execution_count": 4,
      "outputs": [
        {
          "output_type": "stream",
          "name": "stdout",
          "text": [
            "None\n",
            "[93995, 35332, 2337, 89622, 11419, 71120, 46616, 25935, 33407, 98884, 14076, 93535, 15012, 32887, 83205, 32172, 51611, 93689, 24521, 57625, 88291, 23211, 7589, 97301, 48959, 13801, 38668, 93774, 74401, 40532, 85627, 64224, 12476, 24937, 53315, 86565, 28130, 33462, 61302, 79073, 89696, 45598, 77416, 8329, 75739, 52503, 63162, 21315, 67053, 92020, 21477, 36725, 73579, 93950, 59377, 55073, 87352, 63687, 99320, 27537, 77260, 21384, 15741, 7691, 83058, 51238, 93783, 13840, 16032, 55137, 48242, 93452, 71949, 27374, 80334, 45340, 20743, 79781, 56449, 88626, 19489, 70093, 80096, 10416, 51553, 76473, 7025, 5455, 10411, 3224, 38527, 51296, 87460, 11350, 81608, 68702, 73736, 32863, 83375, 6051]\n",
            "[2337, 3224, 5455, 6051, 7025, 7589, 7691, 8329, 10411, 10416, 11350, 11419, 12476, 13801, 13840, 14076, 15012, 15741, 16032, 19489, 20743, 21315, 21384, 21477, 23211, 24521, 24937, 25935, 27374, 27537, 28130, 32172, 32863, 32887, 33407, 33462, 35332, 36725, 38527, 38668, 40532, 45340, 45598, 46616, 48242, 48959, 51238, 51296, 51553, 51611, 52503, 53315, 55073, 55137, 56449, 57625, 59377, 61302, 63162, 63687, 64224, 67053, 68702, 70093, 71120, 71949, 73579, 73736, 74401, 75739, 76473, 77260, 77416, 79073, 79781, 80096, 80334, 81608, 83058, 83205, 83375, 85627, 86565, 87352, 87460, 88291, 88626, 89622, 89696, 92020, 93452, 93535, 93689, 93774, 93783, 93950, 93995, 97301, 98884, 99320]\n",
            "[  315   365  1405  3181  3294  3356  4320  6796  7061  7584  7717  9330\n",
            "  9469 10982 13527 15135 15740 16525 22716 22807 25492 26004 26111 31415\n",
            " 32649 32780 33599 34201 34936 35406 35539 35627 36154 36530 39100 40634\n",
            " 40635 43806 46138 46335 46461 46771 48825 49402 50760 51032 51335 52639\n",
            " 53529 53585 53824 55118 55343 56898 57420 57723 57845 58592 59107 60139\n",
            " 60338 61292 61644 61681 62139 63036 63411 64084 64479 64926 65654 65818\n",
            " 66020 66342 66823 68742 68904 69292 69511 70594 71295 71972 74330 74700\n",
            " 75448 76395 76583 76779 76957 81579 82893 83050 84280 88547 89387 89741\n",
            " 90151 90587 91093 93710]\n",
            "10 loops, best of 5: 83.8 ms per loop\n",
            "10 loops, best of 5: 28 ms per loop\n",
            "10 loops, best of 5: 83.1 ms per loop\n",
            "1000 loops, best of 5: 761 µs per loop\n"
          ]
        }
      ]
    },
    {
      "cell_type": "markdown",
      "source": [
        "### Zadanie\n",
        "\n",
        "Przerobić powyższy kod na wyznaczanie statystyk pozycyjnych."
      ],
      "metadata": {
        "id": "kBMd3y92OJYK"
      }
    },
    {
      "cell_type": "code",
      "source": [
        "def QuickPos(tablica, m):\n",
        "    # szybkie statystyki pozycyjne - szukamy m-tego najmniejszego elementu w tablicy\n",
        "    def QPos(d, g, m):\n",
        "        # pomocnicza procedura - przeszukuje fragment od d do g\n",
        "        i = d\n",
        "        j = g\n",
        "        x = tablica[np.random.randint(d, g+1)]\n",
        "        while i <= j:\n",
        "            while tablica[i] < x:\n",
        "                i += 1\n",
        "            while tablica[j] > x:\n",
        "                j -= 1\n",
        "            if i <= j:\n",
        "                tablica[i], tablica[j] = tablica[j], tablica[i]\n",
        "                i += 1\n",
        "                j -= 1\n",
        "        if d < j and m <= j:\n",
        "            QPos(d, j, m)\n",
        "        if i < g and m >= i:\n",
        "            QPos(i, g, m)\n",
        "\n",
        "    QPos(0, len(tablica)-1, m)\n",
        "    return tablica[m]\n"
      ],
      "metadata": {
        "id": "y3udzgIsOSwZ"
      },
      "execution_count": 5,
      "outputs": []
    },
    {
      "cell_type": "markdown",
      "source": [
        "Sprawdzenie, czy działa."
      ],
      "metadata": {
        "id": "FqP28U0qGvaz"
      }
    },
    {
      "cell_type": "code",
      "source": [
        "tablica1 = [np.random.randint(1, 100000) for i in range(0,100)]\n",
        "tablica2 = tablica1.copy()\n",
        "QuickSort(tablica1)\n",
        "print(tablica1)\n",
        "print(QuickPos(tablica2, 5))\n",
        "\n",
        "n = 10000\n",
        "\n",
        "def test5(n):\n",
        "  tablica1 = [np.random.randint(1, 100000) for i in range(0,n)]\n",
        "  QuickPos(tablica1, 100)\n",
        "\n",
        "%timeit test5(n)\n"
      ],
      "metadata": {
        "colab": {
          "base_uri": "https://localhost:8080/"
        },
        "id": "qS3JryByGXYj",
        "outputId": "f808ba80-e6c7-448e-a8e0-cc71da2de7e5"
      },
      "execution_count": 6,
      "outputs": [
        {
          "output_type": "stream",
          "name": "stdout",
          "text": [
            "[3325, 4501, 5957, 7185, 7768, 7851, 8368, 9409, 9855, 9904, 10406, 10805, 13541, 15130, 16628, 19975, 21007, 21089, 21948, 22054, 23208, 23847, 25067, 26813, 26943, 27090, 28164, 28612, 28966, 29230, 29285, 31166, 32030, 32162, 36578, 37294, 38407, 38691, 39161, 41700, 42520, 43234, 44159, 44467, 44708, 45660, 48557, 48653, 49179, 50368, 51621, 52139, 54241, 54726, 57075, 58468, 59206, 60782, 61443, 61523, 62428, 62507, 62672, 63142, 64018, 66572, 66848, 68816, 69442, 69522, 69818, 71270, 71681, 71699, 72614, 72633, 72870, 73341, 73552, 73555, 74314, 75401, 75818, 80417, 81552, 81810, 82029, 84859, 85535, 86320, 88349, 89754, 89819, 93400, 94162, 94263, 94625, 98302, 98660, 99996]\n",
            "7851\n",
            "10 loops, best of 5: 29.7 ms per loop\n"
          ]
        }
      ]
    },
    {
      "cell_type": "markdown",
      "source": [
        "# Drzewa BST\n",
        "\n",
        "Podstawowe funkcje do drzew BST."
      ],
      "metadata": {
        "id": "1wGU7624OWxE"
      }
    },
    {
      "cell_type": "code",
      "source": [
        "def new_node(value):\n",
        "  \"\"\"\n",
        "  Nowy wierzchołek drzewa\n",
        "  \"\"\"\n",
        "  return {'val': value, 'n': 1, 'left': None, 'right': None}"
      ],
      "metadata": {
        "id": "HiI9ZOssOaCl"
      },
      "execution_count": 7,
      "outputs": []
    },
    {
      "cell_type": "code",
      "source": [
        "def add_value(tree, value):\n",
        "  \"\"\"\n",
        "  Dodanie nowej wartości do drzewa\n",
        "  \"\"\"\n",
        "  if value < tree['val']:   # dodaj do lewego poddrzewa\n",
        "    if tree['left'] is None:\n",
        "      tree['left'] = new_node(value)\n",
        "    else:\n",
        "      add_value(tree['left'], value)\n",
        "  elif value > tree['val']: # dodaj do prawego poddrzewa\n",
        "    if tree['right'] is None:\n",
        "      tree['right'] = new_node(value)\n",
        "    else:\n",
        "      add_value(tree['right'], value)\n",
        "  else:\n",
        "    tree['n'] += 1  # wartość już jest - doliczmy wystapienie"
      ],
      "metadata": {
        "id": "a47Vir3jOpY5"
      },
      "execution_count": 8,
      "outputs": []
    },
    {
      "cell_type": "markdown",
      "source": [
        "Wypisywanie zawartości drzewa."
      ],
      "metadata": {
        "id": "uhlsbbdoOu-E"
      }
    },
    {
      "cell_type": "code",
      "source": [
        "def print_inorder(tree):\n",
        "  \"\"\"\n",
        "  Wypisanie zawartości drzewa\n",
        "  \"\"\"\n",
        "  if tree['left'] is not None:\n",
        "    print_inorder(tree['left'])\n",
        "  print(\"{v}: {n}\".format(v = tree['val'], n = tree['n']))\n",
        "  if tree['right'] is not None:\n",
        "    print_inorder(tree['right'])"
      ],
      "metadata": {
        "id": "OqQ_zX0JOyuY"
      },
      "execution_count": 9,
      "outputs": []
    },
    {
      "cell_type": "markdown",
      "source": [
        "## Przykłady działania"
      ],
      "metadata": {
        "id": "sS3oC3V1O2st"
      }
    },
    {
      "cell_type": "code",
      "source": [
        "tree = new_node(7)\n",
        "add_value(tree, 10)\n",
        "add_value(tree, 5)\n",
        "add_value(tree, 7)\n",
        "add_value(tree, 13)\n",
        "add_value(tree, 8)\n",
        "add_value(tree, 9)\n",
        "add_value(tree, 9)\n",
        "add_value(tree, 3)\n",
        "add_value(tree, 6)\n",
        "add_value(tree, 3)\n",
        "print_inorder(tree)"
      ],
      "metadata": {
        "colab": {
          "base_uri": "https://localhost:8080/"
        },
        "id": "DlLxeVLHO763",
        "outputId": "5511d4c5-928b-481c-d3cc-42db44cdc3e0"
      },
      "execution_count": 10,
      "outputs": [
        {
          "output_type": "stream",
          "name": "stdout",
          "text": [
            "3: 2\n",
            "5: 1\n",
            "6: 1\n",
            "7: 2\n",
            "8: 1\n",
            "9: 2\n",
            "10: 1\n",
            "13: 1\n"
          ]
        }
      ]
    },
    {
      "cell_type": "code",
      "source": [
        "tree = new_node(np.random.randint(1,100))\n",
        "for i in range(1000):\n",
        "  add_value(tree, np.random.randint(1, 100))\n",
        "print_inorder(tree)"
      ],
      "metadata": {
        "colab": {
          "base_uri": "https://localhost:8080/"
        },
        "id": "WMaXO0igO_ae",
        "outputId": "92a59caa-423f-4b0b-a230-c5a3c92dfc39"
      },
      "execution_count": 11,
      "outputs": [
        {
          "output_type": "stream",
          "name": "stdout",
          "text": [
            "1: 15\n",
            "2: 14\n",
            "3: 7\n",
            "4: 9\n",
            "5: 6\n",
            "6: 7\n",
            "7: 10\n",
            "8: 9\n",
            "9: 11\n",
            "10: 9\n",
            "11: 12\n",
            "12: 9\n",
            "13: 8\n",
            "14: 12\n",
            "15: 12\n",
            "16: 10\n",
            "17: 10\n",
            "18: 9\n",
            "19: 9\n",
            "20: 7\n",
            "21: 5\n",
            "22: 14\n",
            "23: 12\n",
            "24: 7\n",
            "25: 8\n",
            "26: 16\n",
            "27: 9\n",
            "28: 9\n",
            "29: 17\n",
            "30: 9\n",
            "31: 11\n",
            "32: 9\n",
            "33: 18\n",
            "34: 10\n",
            "35: 5\n",
            "36: 10\n",
            "37: 12\n",
            "38: 6\n",
            "39: 7\n",
            "40: 14\n",
            "41: 9\n",
            "42: 17\n",
            "43: 10\n",
            "44: 10\n",
            "45: 7\n",
            "46: 13\n",
            "47: 11\n",
            "48: 11\n",
            "49: 19\n",
            "50: 14\n",
            "51: 11\n",
            "52: 10\n",
            "53: 10\n",
            "54: 18\n",
            "55: 9\n",
            "56: 13\n",
            "57: 18\n",
            "58: 10\n",
            "59: 12\n",
            "60: 7\n",
            "61: 10\n",
            "62: 7\n",
            "63: 9\n",
            "64: 6\n",
            "65: 7\n",
            "66: 10\n",
            "67: 11\n",
            "68: 19\n",
            "69: 11\n",
            "70: 7\n",
            "71: 5\n",
            "72: 8\n",
            "73: 13\n",
            "74: 6\n",
            "75: 12\n",
            "76: 5\n",
            "77: 9\n",
            "78: 13\n",
            "79: 14\n",
            "80: 11\n",
            "81: 5\n",
            "82: 10\n",
            "83: 13\n",
            "84: 12\n",
            "85: 5\n",
            "86: 8\n",
            "87: 5\n",
            "88: 3\n",
            "89: 15\n",
            "90: 10\n",
            "91: 6\n",
            "92: 12\n",
            "93: 11\n",
            "94: 15\n",
            "95: 6\n",
            "96: 9\n",
            "97: 8\n",
            "98: 6\n",
            "99: 7\n"
          ]
        }
      ]
    },
    {
      "cell_type": "code",
      "source": [
        "print(100*0.99**1000)"
      ],
      "metadata": {
        "id": "i9odwaiUO4TS",
        "outputId": "5f7b4d79-91c7-4d9e-c5ae-123898f6d7cd",
        "colab": {
          "base_uri": "https://localhost:8080/"
        }
      },
      "execution_count": 12,
      "outputs": [
        {
          "output_type": "stream",
          "name": "stdout",
          "text": [
            "0.004317124741065786\n"
          ]
        }
      ]
    },
    {
      "cell_type": "markdown",
      "metadata": {
        "id": "KlLeHvlFHXin"
      },
      "source": [
        "# Drzewiaste struktury danych dla problemu najbliższego sąsiada\n",
        "\n",
        "Rozpocznijmy od wczytania danych (na dwa sposoby).\n",
        "\n",
        "Pierwszy (łatwiejszy) &mdash; przez upload; drugi &mdash; bezpośrednio z dysku Google."
      ]
    },
    {
      "cell_type": "code",
      "metadata": {
        "colab": {
          "base_uri": "https://localhost:8080/",
          "height": 74,
          "resources": {
            "http://localhost:8080/nbextensions/google.colab/files.js": {
              "data": "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",
              "ok": true,
              "headers": [
                [
                  "content-type",
                  "application/javascript"
                ]
              ],
              "status": 200,
              "status_text": "OK"
            }
          }
        },
        "id": "yj5rZiBvHJII",
        "outputId": "dfa06cc8-4959-4f3e-acd9-8625fdc0d37e"
      },
      "source": [
        "import pandas as pd\n",
        "from google.colab import files\n",
        "\n",
        "uploaded = files.upload()"
      ],
      "execution_count": 13,
      "outputs": [
        {
          "output_type": "display_data",
          "data": {
            "text/plain": [
              "<IPython.core.display.HTML object>"
            ],
            "text/html": [
              "\n",
              "     <input type=\"file\" id=\"files-41b40a07-9e02-468d-804b-576bc363577b\" name=\"files[]\" multiple disabled\n",
              "        style=\"border:none\" />\n",
              "     <output id=\"result-41b40a07-9e02-468d-804b-576bc363577b\">\n",
              "      Upload widget is only available when the cell has been executed in the\n",
              "      current browser session. Please rerun this cell to enable.\n",
              "      </output>\n",
              "      <script src=\"/nbextensions/google.colab/files.js\"></script> "
            ]
          },
          "metadata": {}
        },
        {
          "output_type": "stream",
          "name": "stdout",
          "text": [
            "Saving dane2b.csv to dane2b.csv\n"
          ]
        }
      ]
    },
    {
      "cell_type": "code",
      "metadata": {
        "colab": {
          "base_uri": "https://localhost:8080/",
          "height": 206
        },
        "id": "d2rX4X7LIgn_",
        "outputId": "e25dea3f-eab7-4fa9-dc14-817084068888"
      },
      "source": [
        "import io\n",
        "\n",
        "df1 = pd.read_csv(io.BytesIO(uploaded['dane2b.csv']), sep=\";\",decimal=\",\")\n",
        "df1.head()"
      ],
      "execution_count": 14,
      "outputs": [
        {
          "output_type": "execute_result",
          "data": {
            "text/plain": [
              "          x         y  klasa\n",
              "0  0.767749 -1.176654      1\n",
              "1  0.172735 -0.576948      3\n",
              "2  0.441339  0.382382      3\n",
              "3 -0.345603 -0.058987      3\n",
              "4 -0.844281  0.426800      3"
            ],
            "text/html": [
              "\n",
              "  <div id=\"df-34791564-b13a-4299-ac78-a05fbd56fcc3\">\n",
              "    <div class=\"colab-df-container\">\n",
              "      <div>\n",
              "<style scoped>\n",
              "    .dataframe tbody tr th:only-of-type {\n",
              "        vertical-align: middle;\n",
              "    }\n",
              "\n",
              "    .dataframe tbody tr th {\n",
              "        vertical-align: top;\n",
              "    }\n",
              "\n",
              "    .dataframe thead th {\n",
              "        text-align: right;\n",
              "    }\n",
              "</style>\n",
              "<table border=\"1\" class=\"dataframe\">\n",
              "  <thead>\n",
              "    <tr style=\"text-align: right;\">\n",
              "      <th></th>\n",
              "      <th>x</th>\n",
              "      <th>y</th>\n",
              "      <th>klasa</th>\n",
              "    </tr>\n",
              "  </thead>\n",
              "  <tbody>\n",
              "    <tr>\n",
              "      <th>0</th>\n",
              "      <td>0.767749</td>\n",
              "      <td>-1.176654</td>\n",
              "      <td>1</td>\n",
              "    </tr>\n",
              "    <tr>\n",
              "      <th>1</th>\n",
              "      <td>0.172735</td>\n",
              "      <td>-0.576948</td>\n",
              "      <td>3</td>\n",
              "    </tr>\n",
              "    <tr>\n",
              "      <th>2</th>\n",
              "      <td>0.441339</td>\n",
              "      <td>0.382382</td>\n",
              "      <td>3</td>\n",
              "    </tr>\n",
              "    <tr>\n",
              "      <th>3</th>\n",
              "      <td>-0.345603</td>\n",
              "      <td>-0.058987</td>\n",
              "      <td>3</td>\n",
              "    </tr>\n",
              "    <tr>\n",
              "      <th>4</th>\n",
              "      <td>-0.844281</td>\n",
              "      <td>0.426800</td>\n",
              "      <td>3</td>\n",
              "    </tr>\n",
              "  </tbody>\n",
              "</table>\n",
              "</div>\n",
              "      <button class=\"colab-df-convert\" onclick=\"convertToInteractive('df-34791564-b13a-4299-ac78-a05fbd56fcc3')\"\n",
              "              title=\"Convert this dataframe to an interactive table.\"\n",
              "              style=\"display:none;\">\n",
              "        \n",
              "  <svg xmlns=\"http://www.w3.org/2000/svg\" height=\"24px\"viewBox=\"0 0 24 24\"\n",
              "       width=\"24px\">\n",
              "    <path d=\"M0 0h24v24H0V0z\" fill=\"none\"/>\n",
              "    <path d=\"M18.56 5.44l.94 2.06.94-2.06 2.06-.94-2.06-.94-.94-2.06-.94 2.06-2.06.94zm-11 1L8.5 8.5l.94-2.06 2.06-.94-2.06-.94L8.5 2.5l-.94 2.06-2.06.94zm10 10l.94 2.06.94-2.06 2.06-.94-2.06-.94-.94-2.06-.94 2.06-2.06.94z\"/><path d=\"M17.41 7.96l-1.37-1.37c-.4-.4-.92-.59-1.43-.59-.52 0-1.04.2-1.43.59L10.3 9.45l-7.72 7.72c-.78.78-.78 2.05 0 2.83L4 21.41c.39.39.9.59 1.41.59.51 0 1.02-.2 1.41-.59l7.78-7.78 2.81-2.81c.8-.78.8-2.07 0-2.86zM5.41 20L4 18.59l7.72-7.72 1.47 1.35L5.41 20z\"/>\n",
              "  </svg>\n",
              "      </button>\n",
              "      \n",
              "  <style>\n",
              "    .colab-df-container {\n",
              "      display:flex;\n",
              "      flex-wrap:wrap;\n",
              "      gap: 12px;\n",
              "    }\n",
              "\n",
              "    .colab-df-convert {\n",
              "      background-color: #E8F0FE;\n",
              "      border: none;\n",
              "      border-radius: 50%;\n",
              "      cursor: pointer;\n",
              "      display: none;\n",
              "      fill: #1967D2;\n",
              "      height: 32px;\n",
              "      padding: 0 0 0 0;\n",
              "      width: 32px;\n",
              "    }\n",
              "\n",
              "    .colab-df-convert:hover {\n",
              "      background-color: #E2EBFA;\n",
              "      box-shadow: 0px 1px 2px rgba(60, 64, 67, 0.3), 0px 1px 3px 1px rgba(60, 64, 67, 0.15);\n",
              "      fill: #174EA6;\n",
              "    }\n",
              "\n",
              "    [theme=dark] .colab-df-convert {\n",
              "      background-color: #3B4455;\n",
              "      fill: #D2E3FC;\n",
              "    }\n",
              "\n",
              "    [theme=dark] .colab-df-convert:hover {\n",
              "      background-color: #434B5C;\n",
              "      box-shadow: 0px 1px 3px 1px rgba(0, 0, 0, 0.15);\n",
              "      filter: drop-shadow(0px 1px 2px rgba(0, 0, 0, 0.3));\n",
              "      fill: #FFFFFF;\n",
              "    }\n",
              "  </style>\n",
              "\n",
              "      <script>\n",
              "        const buttonEl =\n",
              "          document.querySelector('#df-34791564-b13a-4299-ac78-a05fbd56fcc3 button.colab-df-convert');\n",
              "        buttonEl.style.display =\n",
              "          google.colab.kernel.accessAllowed ? 'block' : 'none';\n",
              "\n",
              "        async function convertToInteractive(key) {\n",
              "          const element = document.querySelector('#df-34791564-b13a-4299-ac78-a05fbd56fcc3');\n",
              "          const dataTable =\n",
              "            await google.colab.kernel.invokeFunction('convertToInteractive',\n",
              "                                                     [key], {});\n",
              "          if (!dataTable) return;\n",
              "\n",
              "          const docLinkHtml = 'Like what you see? Visit the ' +\n",
              "            '<a target=\"_blank\" href=https://colab.research.google.com/notebooks/data_table.ipynb>data table notebook</a>'\n",
              "            + ' to learn more about interactive tables.';\n",
              "          element.innerHTML = '';\n",
              "          dataTable['output_type'] = 'display_data';\n",
              "          await google.colab.output.renderOutput(dataTable, element);\n",
              "          const docLink = document.createElement('div');\n",
              "          docLink.innerHTML = docLinkHtml;\n",
              "          element.appendChild(docLink);\n",
              "        }\n",
              "      </script>\n",
              "    </div>\n",
              "  </div>\n",
              "  "
            ]
          },
          "metadata": {},
          "execution_count": 14
        }
      ]
    },
    {
      "cell_type": "markdown",
      "metadata": {
        "id": "ifZ2Mi1WJgf8"
      },
      "source": [
        "Poszło. To teraz drugi sposób."
      ]
    },
    {
      "cell_type": "code",
      "metadata": {
        "colab": {
          "base_uri": "https://localhost:8080/"
        },
        "id": "kFuWFVdDJV5m",
        "outputId": "9c730f4e-2606-4e3a-84f5-24c37e310a0a"
      },
      "source": [
        "from google.colab import drive\n",
        "drive.mount('/content/drive')"
      ],
      "execution_count": 15,
      "outputs": [
        {
          "output_type": "stream",
          "name": "stdout",
          "text": [
            "Mounted at /content/drive\n"
          ]
        }
      ]
    },
    {
      "cell_type": "code",
      "metadata": {
        "colab": {
          "base_uri": "https://localhost:8080/"
        },
        "id": "SDq64TsHJyA2",
        "outputId": "213d2a94-6371-40a8-a9d4-3bd1029e7392"
      },
      "source": [
        "import os\n",
        "\n",
        "!ls"
      ],
      "execution_count": 16,
      "outputs": [
        {
          "output_type": "stream",
          "name": "stdout",
          "text": [
            "dane2b.csv  drive  sample_data\n"
          ]
        }
      ]
    },
    {
      "cell_type": "code",
      "metadata": {
        "colab": {
          "base_uri": "https://localhost:8080/"
        },
        "id": "AsF9Cq8nKFbv",
        "outputId": "2d62d383-25b4-41f3-f773-f251b07325ac"
      },
      "source": [
        "%cd /content/drive/MyDrive/'Colab Notebooks'\n",
        "!ls"
      ],
      "execution_count": 17,
      "outputs": [
        {
          "output_type": "stream",
          "name": "stdout",
          "text": [
            "/content/drive/MyDrive/Colab Notebooks\n",
            " Algorytmy.ipynb\n",
            " Algorytmy_kNN_kd_tree.ipynb\n",
            " BST.ipynb\n",
            " cdr_d.csv\n",
            "'Część 0 - kilka przykładów (1).ipynb'\n",
            "'Część 0 - kilka przykładów (bonus).ipynb'\n",
            "'Część 0 - kilka przykładów.ipynb'\n",
            "'Część 1 - Numpy - PG.ipynb'\n",
            "'Część 2 - Instrukcje sterujące.ipynb'\n",
            "'Część 4 - Funkcje.ipynb'\n",
            "'Część 4 - kNN.ipynb'\n",
            "'Część 1 - Preprocessing.ipynb'\n",
            "'Część 1 - Proste komendy (1).ipynb'\n",
            "'Część 1 - Proste komendy.ipynb'\n",
            "'Część 2 - Regresja.ipynb'\n",
            "'Część 3 - Regresja regularyzowana.ipynb'\n",
            "'Część 3 - Regresja regularyzowana_PG_zmiany.ipynb'\n",
            " Część 3_Regresja_regularyzowana_PG_zmiany.ipynb\n",
            "'Część 6 - Regresja logistyczna (1).ipynb'\n",
            "'Część 6 - Regresja logistyczna (2).ipynb'\n",
            "'Część 6 - Regresja logistyczna.ipynb'\n",
            " dane1b.csv\n",
            " dane1.csv\n",
            "'dane2b (1).csv'\n",
            " dane2b.csv\n",
            " dane2.csv\n",
            "'Elementy klasyfikacji.ipynb'\n",
            "'Funkcje i rekurencja.ipynb'\n",
            " Grafy4b.ipynb\n",
            " Grafy4.ipynb\n",
            " HVAC_211203.ipynb\n",
            " kNN_kd_tree.ipynb\n",
            "'Kopia notatnika introduction_modules.ipynb'\n",
            "'Kopia notatnika Untitled0.ipynb'\n",
            "'Kopia notatnika Warsztaty Apache Spark.ipynb'\n",
            " Kyrylo_Myshnov_Zalacznik1.ipynb\n",
            " Mahalanobis.ipynb\n",
            "'Modele analityczne _ PG_2.ipynb'\n",
            "'Modele analityczne _ PG.ipynb'\n",
            "'Podstawy analizy danych (1).ipynb'\n",
            "'Podstawy analizy danych.ipynb'\n",
            " QAP.ipynb\n",
            " QuickSortPos.ipynb\n",
            " QuickSortRank_CMI.ipynb\n",
            " TINF_GA_for_QAP.ipynb\n",
            " Untitled\n",
            " Untitled0.ipynb\n",
            "'Untitled (1)'\n",
            " Untitled1.ipynb\n",
            " Untitled2.ipynb\n",
            " Untitled3.ipynb\n",
            " Untitled4.ipynb\n",
            "'Warsztaty Apache Spark _PG.ipynb'\n"
          ]
        }
      ]
    },
    {
      "cell_type": "code",
      "metadata": {
        "colab": {
          "base_uri": "https://localhost:8080/",
          "height": 206
        },
        "id": "s5eBilheKK4j",
        "outputId": "26df741e-4276-458a-b835-bbfe3eb1039c"
      },
      "source": [
        "df1 = pd.read_csv(\"dane2.csv\") # ten plik csv był w stylu amerykańskim \n",
        "df1.head()"
      ],
      "execution_count": 21,
      "outputs": [
        {
          "output_type": "execute_result",
          "data": {
            "text/plain": [
              "          x         y  klasa\n",
              "0  0.767749 -1.176654      1\n",
              "1  0.172735 -0.576948      3\n",
              "2  0.441339  0.382382      3\n",
              "3 -0.345603 -0.058987      3\n",
              "4 -0.844281  0.426800      3"
            ],
            "text/html": [
              "\n",
              "  <div id=\"df-7c7e0907-91a2-43b6-b6b0-c82e88fbb9ee\">\n",
              "    <div class=\"colab-df-container\">\n",
              "      <div>\n",
              "<style scoped>\n",
              "    .dataframe tbody tr th:only-of-type {\n",
              "        vertical-align: middle;\n",
              "    }\n",
              "\n",
              "    .dataframe tbody tr th {\n",
              "        vertical-align: top;\n",
              "    }\n",
              "\n",
              "    .dataframe thead th {\n",
              "        text-align: right;\n",
              "    }\n",
              "</style>\n",
              "<table border=\"1\" class=\"dataframe\">\n",
              "  <thead>\n",
              "    <tr style=\"text-align: right;\">\n",
              "      <th></th>\n",
              "      <th>x</th>\n",
              "      <th>y</th>\n",
              "      <th>klasa</th>\n",
              "    </tr>\n",
              "  </thead>\n",
              "  <tbody>\n",
              "    <tr>\n",
              "      <th>0</th>\n",
              "      <td>0.767749</td>\n",
              "      <td>-1.176654</td>\n",
              "      <td>1</td>\n",
              "    </tr>\n",
              "    <tr>\n",
              "      <th>1</th>\n",
              "      <td>0.172735</td>\n",
              "      <td>-0.576948</td>\n",
              "      <td>3</td>\n",
              "    </tr>\n",
              "    <tr>\n",
              "      <th>2</th>\n",
              "      <td>0.441339</td>\n",
              "      <td>0.382382</td>\n",
              "      <td>3</td>\n",
              "    </tr>\n",
              "    <tr>\n",
              "      <th>3</th>\n",
              "      <td>-0.345603</td>\n",
              "      <td>-0.058987</td>\n",
              "      <td>3</td>\n",
              "    </tr>\n",
              "    <tr>\n",
              "      <th>4</th>\n",
              "      <td>-0.844281</td>\n",
              "      <td>0.426800</td>\n",
              "      <td>3</td>\n",
              "    </tr>\n",
              "  </tbody>\n",
              "</table>\n",
              "</div>\n",
              "      <button class=\"colab-df-convert\" onclick=\"convertToInteractive('df-7c7e0907-91a2-43b6-b6b0-c82e88fbb9ee')\"\n",
              "              title=\"Convert this dataframe to an interactive table.\"\n",
              "              style=\"display:none;\">\n",
              "        \n",
              "  <svg xmlns=\"http://www.w3.org/2000/svg\" height=\"24px\"viewBox=\"0 0 24 24\"\n",
              "       width=\"24px\">\n",
              "    <path d=\"M0 0h24v24H0V0z\" fill=\"none\"/>\n",
              "    <path d=\"M18.56 5.44l.94 2.06.94-2.06 2.06-.94-2.06-.94-.94-2.06-.94 2.06-2.06.94zm-11 1L8.5 8.5l.94-2.06 2.06-.94-2.06-.94L8.5 2.5l-.94 2.06-2.06.94zm10 10l.94 2.06.94-2.06 2.06-.94-2.06-.94-.94-2.06-.94 2.06-2.06.94z\"/><path d=\"M17.41 7.96l-1.37-1.37c-.4-.4-.92-.59-1.43-.59-.52 0-1.04.2-1.43.59L10.3 9.45l-7.72 7.72c-.78.78-.78 2.05 0 2.83L4 21.41c.39.39.9.59 1.41.59.51 0 1.02-.2 1.41-.59l7.78-7.78 2.81-2.81c.8-.78.8-2.07 0-2.86zM5.41 20L4 18.59l7.72-7.72 1.47 1.35L5.41 20z\"/>\n",
              "  </svg>\n",
              "      </button>\n",
              "      \n",
              "  <style>\n",
              "    .colab-df-container {\n",
              "      display:flex;\n",
              "      flex-wrap:wrap;\n",
              "      gap: 12px;\n",
              "    }\n",
              "\n",
              "    .colab-df-convert {\n",
              "      background-color: #E8F0FE;\n",
              "      border: none;\n",
              "      border-radius: 50%;\n",
              "      cursor: pointer;\n",
              "      display: none;\n",
              "      fill: #1967D2;\n",
              "      height: 32px;\n",
              "      padding: 0 0 0 0;\n",
              "      width: 32px;\n",
              "    }\n",
              "\n",
              "    .colab-df-convert:hover {\n",
              "      background-color: #E2EBFA;\n",
              "      box-shadow: 0px 1px 2px rgba(60, 64, 67, 0.3), 0px 1px 3px 1px rgba(60, 64, 67, 0.15);\n",
              "      fill: #174EA6;\n",
              "    }\n",
              "\n",
              "    [theme=dark] .colab-df-convert {\n",
              "      background-color: #3B4455;\n",
              "      fill: #D2E3FC;\n",
              "    }\n",
              "\n",
              "    [theme=dark] .colab-df-convert:hover {\n",
              "      background-color: #434B5C;\n",
              "      box-shadow: 0px 1px 3px 1px rgba(0, 0, 0, 0.15);\n",
              "      filter: drop-shadow(0px 1px 2px rgba(0, 0, 0, 0.3));\n",
              "      fill: #FFFFFF;\n",
              "    }\n",
              "  </style>\n",
              "\n",
              "      <script>\n",
              "        const buttonEl =\n",
              "          document.querySelector('#df-7c7e0907-91a2-43b6-b6b0-c82e88fbb9ee button.colab-df-convert');\n",
              "        buttonEl.style.display =\n",
              "          google.colab.kernel.accessAllowed ? 'block' : 'none';\n",
              "\n",
              "        async function convertToInteractive(key) {\n",
              "          const element = document.querySelector('#df-7c7e0907-91a2-43b6-b6b0-c82e88fbb9ee');\n",
              "          const dataTable =\n",
              "            await google.colab.kernel.invokeFunction('convertToInteractive',\n",
              "                                                     [key], {});\n",
              "          if (!dataTable) return;\n",
              "\n",
              "          const docLinkHtml = 'Like what you see? Visit the ' +\n",
              "            '<a target=\"_blank\" href=https://colab.research.google.com/notebooks/data_table.ipynb>data table notebook</a>'\n",
              "            + ' to learn more about interactive tables.';\n",
              "          element.innerHTML = '';\n",
              "          dataTable['output_type'] = 'display_data';\n",
              "          await google.colab.output.renderOutput(dataTable, element);\n",
              "          const docLink = document.createElement('div');\n",
              "          docLink.innerHTML = docLinkHtml;\n",
              "          element.appendChild(docLink);\n",
              "        }\n",
              "      </script>\n",
              "    </div>\n",
              "  </div>\n",
              "  "
            ]
          },
          "metadata": {},
          "execution_count": 21
        }
      ]
    },
    {
      "cell_type": "markdown",
      "metadata": {
        "id": "C1JYn60cOMgI"
      },
      "source": [
        "Dane już wczytanie: gotowy, prosty problem klasyfikacyjny, z obrazkiem poniżej."
      ]
    },
    {
      "cell_type": "code",
      "metadata": {
        "colab": {
          "base_uri": "https://localhost:8080/",
          "height": 258
        },
        "id": "1t1UzG9AOX_3",
        "outputId": "d987f74c-314c-4ec8-ec75-ad66d1009a45"
      },
      "source": [
        "%matplotlib inline\n",
        "import matplotlib.pyplot as plt\n",
        "\n",
        "df1.plot.scatter(x = 'x', y = 'y', c = 'klasa', colormap = 'viridis')\n",
        "plt.show()"
      ],
      "execution_count": 22,
      "outputs": [
        {
          "output_type": "display_data",
          "data": {
            "text/plain": [
              "<Figure size 432x288 with 2 Axes>"
            ],
            "image/png": "[encoded data removed]"
          },
          "metadata": {
            "needs_background": "light"
          }
        }
      ]
    },
    {
      "cell_type": "markdown",
      "metadata": {
        "id": "wwle8fQzPfA4"
      },
      "source": [
        "Rozbijmy go na część uczącą i testową (na piechotę)."
      ]
    },
    {
      "cell_type": "code",
      "metadata": {
        "colab": {
          "base_uri": "https://localhost:8080/",
          "height": 640
        },
        "id": "phLr4UBvPi-F",
        "outputId": "3d2e0b46-0733-4234-c6a5-09cdcec9aef7"
      },
      "source": [
        "import numpy as np\n",
        "\n",
        "p = 0.2\n",
        "split = np.random.rand(len(df1)) < 1-p\n",
        "train = df1[split]\n",
        "test = df1[~split]\n",
        "\n",
        "print(len(df1), \";\", len(train), \"; \", len(test))\n",
        "print(test.head())\n",
        "print(test['x'][0]) # jedno z tych wywoła błąd\n",
        "print(train['x'][0])\n"
      ],
      "execution_count": 23,
      "outputs": [
        {
          "output_type": "stream",
          "name": "stdout",
          "text": [
            "10000 ; 8030 ;  1970\n",
            "           x         y  klasa\n",
            "5   0.532567 -1.370697      1\n",
            "9  -0.506647 -0.468267      3\n",
            "11 -1.346058 -1.542687      1\n",
            "17 -1.038293 -1.376540      1\n",
            "19  0.020270  0.633397      2\n"
          ]
        },
        {
          "output_type": "error",
          "ename": "KeyError",
          "evalue": "ignored",
          "traceback": [
            "\u001b[0;31m---------------------------------------------------------------------------\u001b[0m",
            "\u001b[0;31mKeyError\u001b[0m                                  Traceback (most recent call last)",
            "\u001b[0;32m/usr/local/lib/python3.7/dist-packages/pandas/core/indexes/base.py\u001b[0m in \u001b[0;36mget_loc\u001b[0;34m(self, key, method, tolerance)\u001b[0m\n\u001b[1;32m   3360\u001b[0m             \u001b[0;32mtry\u001b[0m\u001b[0;34m:\u001b[0m\u001b[0;34m\u001b[0m\u001b[0;34m\u001b[0m\u001b[0m\n\u001b[0;32m-> 3361\u001b[0;31m                 \u001b[0;32mreturn\u001b[0m \u001b[0mself\u001b[0m\u001b[0;34m.\u001b[0m\u001b[0m_engine\u001b[0m\u001b[0;34m.\u001b[0m\u001b[0mget_loc\u001b[0m\u001b[0;34m(\u001b[0m\u001b[0mcasted_key\u001b[0m\u001b[0;34m)\u001b[0m\u001b[0;34m\u001b[0m\u001b[0;34m\u001b[0m\u001b[0m\n\u001b[0m\u001b[1;32m   3362\u001b[0m             \u001b[0;32mexcept\u001b[0m \u001b[0mKeyError\u001b[0m \u001b[0;32mas\u001b[0m \u001b[0merr\u001b[0m\u001b[0;34m:\u001b[0m\u001b[0;34m\u001b[0m\u001b[0;34m\u001b[0m\u001b[0m\n",
            "\u001b[0;32m/usr/local/lib/python3.7/dist-packages/pandas/_libs/index.pyx\u001b[0m in \u001b[0;36mpandas._libs.index.IndexEngine.get_loc\u001b[0;34m()\u001b[0m\n",
            "\u001b[0;32m/usr/local/lib/python3.7/dist-packages/pandas/_libs/index.pyx\u001b[0m in \u001b[0;36mpandas._libs.index.IndexEngine.get_loc\u001b[0;34m()\u001b[0m\n",
            "\u001b[0;32mpandas/_libs/hashtable_class_helper.pxi\u001b[0m in \u001b[0;36mpandas._libs.hashtable.Int64HashTable.get_item\u001b[0;34m()\u001b[0m\n",
            "\u001b[0;32mpandas/_libs/hashtable_class_helper.pxi\u001b[0m in \u001b[0;36mpandas._libs.hashtable.Int64HashTable.get_item\u001b[0;34m()\u001b[0m\n",
            "\u001b[0;31mKeyError\u001b[0m: 0",
            "\nThe above exception was the direct cause of the following exception:\n",
            "\u001b[0;31mKeyError\u001b[0m                                  Traceback (most recent call last)",
            "\u001b[0;32m<ipython-input-23-bf98e6ab0cef>\u001b[0m in \u001b[0;36m<module>\u001b[0;34m()\u001b[0m\n\u001b[1;32m      8\u001b[0m \u001b[0mprint\u001b[0m\u001b[0;34m(\u001b[0m\u001b[0mlen\u001b[0m\u001b[0;34m(\u001b[0m\u001b[0mdf1\u001b[0m\u001b[0;34m)\u001b[0m\u001b[0;34m,\u001b[0m \u001b[0;34m\";\"\u001b[0m\u001b[0;34m,\u001b[0m \u001b[0mlen\u001b[0m\u001b[0;34m(\u001b[0m\u001b[0mtrain\u001b[0m\u001b[0;34m)\u001b[0m\u001b[0;34m,\u001b[0m \u001b[0;34m\"; \"\u001b[0m\u001b[0;34m,\u001b[0m \u001b[0mlen\u001b[0m\u001b[0;34m(\u001b[0m\u001b[0mtest\u001b[0m\u001b[0;34m)\u001b[0m\u001b[0;34m)\u001b[0m\u001b[0;34m\u001b[0m\u001b[0;34m\u001b[0m\u001b[0m\n\u001b[1;32m      9\u001b[0m \u001b[0mprint\u001b[0m\u001b[0;34m(\u001b[0m\u001b[0mtest\u001b[0m\u001b[0;34m.\u001b[0m\u001b[0mhead\u001b[0m\u001b[0;34m(\u001b[0m\u001b[0;34m)\u001b[0m\u001b[0;34m)\u001b[0m\u001b[0;34m\u001b[0m\u001b[0;34m\u001b[0m\u001b[0m\n\u001b[0;32m---> 10\u001b[0;31m \u001b[0mprint\u001b[0m\u001b[0;34m(\u001b[0m\u001b[0mtest\u001b[0m\u001b[0;34m[\u001b[0m\u001b[0;34m'x'\u001b[0m\u001b[0;34m]\u001b[0m\u001b[0;34m[\u001b[0m\u001b[0;36m0\u001b[0m\u001b[0;34m]\u001b[0m\u001b[0;34m)\u001b[0m \u001b[0;31m# jedno z tych wywoła błąd\u001b[0m\u001b[0;34m\u001b[0m\u001b[0;34m\u001b[0m\u001b[0m\n\u001b[0m\u001b[1;32m     11\u001b[0m \u001b[0mprint\u001b[0m\u001b[0;34m(\u001b[0m\u001b[0mtrain\u001b[0m\u001b[0;34m[\u001b[0m\u001b[0;34m'x'\u001b[0m\u001b[0;34m]\u001b[0m\u001b[0;34m[\u001b[0m\u001b[0;36m0\u001b[0m\u001b[0;34m]\u001b[0m\u001b[0;34m)\u001b[0m\u001b[0;34m\u001b[0m\u001b[0;34m\u001b[0m\u001b[0m\n",
            "\u001b[0;32m/usr/local/lib/python3.7/dist-packages/pandas/core/series.py\u001b[0m in \u001b[0;36m__getitem__\u001b[0;34m(self, key)\u001b[0m\n\u001b[1;32m    940\u001b[0m \u001b[0;34m\u001b[0m\u001b[0m\n\u001b[1;32m    941\u001b[0m         \u001b[0;32melif\u001b[0m \u001b[0mkey_is_scalar\u001b[0m\u001b[0;34m:\u001b[0m\u001b[0;34m\u001b[0m\u001b[0;34m\u001b[0m\u001b[0m\n\u001b[0;32m--> 942\u001b[0;31m             \u001b[0;32mreturn\u001b[0m \u001b[0mself\u001b[0m\u001b[0;34m.\u001b[0m\u001b[0m_get_value\u001b[0m\u001b[0;34m(\u001b[0m\u001b[0mkey\u001b[0m\u001b[0;34m)\u001b[0m\u001b[0;34m\u001b[0m\u001b[0;34m\u001b[0m\u001b[0m\n\u001b[0m\u001b[1;32m    943\u001b[0m \u001b[0;34m\u001b[0m\u001b[0m\n\u001b[1;32m    944\u001b[0m         \u001b[0;32mif\u001b[0m \u001b[0mis_hashable\u001b[0m\u001b[0;34m(\u001b[0m\u001b[0mkey\u001b[0m\u001b[0;34m)\u001b[0m\u001b[0;34m:\u001b[0m\u001b[0;34m\u001b[0m\u001b[0;34m\u001b[0m\u001b[0m\n",
            "\u001b[0;32m/usr/local/lib/python3.7/dist-packages/pandas/core/series.py\u001b[0m in \u001b[0;36m_get_value\u001b[0;34m(self, label, takeable)\u001b[0m\n\u001b[1;32m   1049\u001b[0m \u001b[0;34m\u001b[0m\u001b[0m\n\u001b[1;32m   1050\u001b[0m         \u001b[0;31m# Similar to Index.get_value, but we do not fall back to positional\u001b[0m\u001b[0;34m\u001b[0m\u001b[0;34m\u001b[0m\u001b[0;34m\u001b[0m\u001b[0m\n\u001b[0;32m-> 1051\u001b[0;31m         \u001b[0mloc\u001b[0m \u001b[0;34m=\u001b[0m \u001b[0mself\u001b[0m\u001b[0;34m.\u001b[0m\u001b[0mindex\u001b[0m\u001b[0;34m.\u001b[0m\u001b[0mget_loc\u001b[0m\u001b[0;34m(\u001b[0m\u001b[0mlabel\u001b[0m\u001b[0;34m)\u001b[0m\u001b[0;34m\u001b[0m\u001b[0;34m\u001b[0m\u001b[0m\n\u001b[0m\u001b[1;32m   1052\u001b[0m         \u001b[0;32mreturn\u001b[0m \u001b[0mself\u001b[0m\u001b[0;34m.\u001b[0m\u001b[0mindex\u001b[0m\u001b[0;34m.\u001b[0m\u001b[0m_get_values_for_loc\u001b[0m\u001b[0;34m(\u001b[0m\u001b[0mself\u001b[0m\u001b[0;34m,\u001b[0m \u001b[0mloc\u001b[0m\u001b[0;34m,\u001b[0m \u001b[0mlabel\u001b[0m\u001b[0;34m)\u001b[0m\u001b[0;34m\u001b[0m\u001b[0;34m\u001b[0m\u001b[0m\n\u001b[1;32m   1053\u001b[0m \u001b[0;34m\u001b[0m\u001b[0m\n",
            "\u001b[0;32m/usr/local/lib/python3.7/dist-packages/pandas/core/indexes/base.py\u001b[0m in \u001b[0;36mget_loc\u001b[0;34m(self, key, method, tolerance)\u001b[0m\n\u001b[1;32m   3361\u001b[0m                 \u001b[0;32mreturn\u001b[0m \u001b[0mself\u001b[0m\u001b[0;34m.\u001b[0m\u001b[0m_engine\u001b[0m\u001b[0;34m.\u001b[0m\u001b[0mget_loc\u001b[0m\u001b[0;34m(\u001b[0m\u001b[0mcasted_key\u001b[0m\u001b[0;34m)\u001b[0m\u001b[0;34m\u001b[0m\u001b[0;34m\u001b[0m\u001b[0m\n\u001b[1;32m   3362\u001b[0m             \u001b[0;32mexcept\u001b[0m \u001b[0mKeyError\u001b[0m \u001b[0;32mas\u001b[0m \u001b[0merr\u001b[0m\u001b[0;34m:\u001b[0m\u001b[0;34m\u001b[0m\u001b[0;34m\u001b[0m\u001b[0m\n\u001b[0;32m-> 3363\u001b[0;31m                 \u001b[0;32mraise\u001b[0m \u001b[0mKeyError\u001b[0m\u001b[0;34m(\u001b[0m\u001b[0mkey\u001b[0m\u001b[0;34m)\u001b[0m \u001b[0;32mfrom\u001b[0m \u001b[0merr\u001b[0m\u001b[0;34m\u001b[0m\u001b[0;34m\u001b[0m\u001b[0m\n\u001b[0m\u001b[1;32m   3364\u001b[0m \u001b[0;34m\u001b[0m\u001b[0m\n\u001b[1;32m   3365\u001b[0m         \u001b[0;32mif\u001b[0m \u001b[0mis_scalar\u001b[0m\u001b[0;34m(\u001b[0m\u001b[0mkey\u001b[0m\u001b[0;34m)\u001b[0m \u001b[0;32mand\u001b[0m \u001b[0misna\u001b[0m\u001b[0;34m(\u001b[0m\u001b[0mkey\u001b[0m\u001b[0;34m)\u001b[0m \u001b[0;32mand\u001b[0m \u001b[0;32mnot\u001b[0m \u001b[0mself\u001b[0m\u001b[0;34m.\u001b[0m\u001b[0mhasnans\u001b[0m\u001b[0;34m:\u001b[0m\u001b[0;34m\u001b[0m\u001b[0;34m\u001b[0m\u001b[0m\n",
            "\u001b[0;31mKeyError\u001b[0m: 0"
          ]
        }
      ]
    },
    {
      "cell_type": "markdown",
      "metadata": {
        "id": "MzZZvlMIQggM"
      },
      "source": [
        "## Metoda najbliższych sąsiadów z pakietu *sklearn*."
      ]
    },
    {
      "cell_type": "code",
      "metadata": {
        "id": "xFmQ9KOrQfXS"
      },
      "source": [
        "from sklearn.neighbors import KNeighborsClassifier\n",
        "\n",
        "classifier = KNeighborsClassifier(n_neighbors = 1)\n",
        "classifier.fit(train[['x', 'y']], train['klasa'])\n",
        "y_pred = classifier.predict(test[['x', 'y']])"
      ],
      "execution_count": 24,
      "outputs": []
    },
    {
      "cell_type": "code",
      "metadata": {
        "colab": {
          "base_uri": "https://localhost:8080/",
          "height": 143
        },
        "id": "tzTBNoi-Ry-h",
        "outputId": "518abc97-cd59-4145-a524-42a88f17cf60"
      },
      "source": [
        "from sklearn.metrics import confusion_matrix\n",
        "\n",
        "pd.DataFrame(confusion_matrix(test['klasa'], y_pred))"
      ],
      "execution_count": 25,
      "outputs": [
        {
          "output_type": "execute_result",
          "data": {
            "text/plain": [
              "     0    1    2\n",
              "0  740    0   41\n",
              "1    0  749   56\n",
              "2   50   37  297"
            ],
            "text/html": [
              "\n",
              "  <div id=\"df-995146e4-932c-43cf-a822-e5b7596a6e29\">\n",
              "    <div class=\"colab-df-container\">\n",
              "      <div>\n",
              "<style scoped>\n",
              "    .dataframe tbody tr th:only-of-type {\n",
              "        vertical-align: middle;\n",
              "    }\n",
              "\n",
              "    .dataframe tbody tr th {\n",
              "        vertical-align: top;\n",
              "    }\n",
              "\n",
              "    .dataframe thead th {\n",
              "        text-align: right;\n",
              "    }\n",
              "</style>\n",
              "<table border=\"1\" class=\"dataframe\">\n",
              "  <thead>\n",
              "    <tr style=\"text-align: right;\">\n",
              "      <th></th>\n",
              "      <th>0</th>\n",
              "      <th>1</th>\n",
              "      <th>2</th>\n",
              "    </tr>\n",
              "  </thead>\n",
              "  <tbody>\n",
              "    <tr>\n",
              "      <th>0</th>\n",
              "      <td>740</td>\n",
              "      <td>0</td>\n",
              "      <td>41</td>\n",
              "    </tr>\n",
              "    <tr>\n",
              "      <th>1</th>\n",
              "      <td>0</td>\n",
              "      <td>749</td>\n",
              "      <td>56</td>\n",
              "    </tr>\n",
              "    <tr>\n",
              "      <th>2</th>\n",
              "      <td>50</td>\n",
              "      <td>37</td>\n",
              "      <td>297</td>\n",
              "    </tr>\n",
              "  </tbody>\n",
              "</table>\n",
              "</div>\n",
              "      <button class=\"colab-df-convert\" onclick=\"convertToInteractive('df-995146e4-932c-43cf-a822-e5b7596a6e29')\"\n",
              "              title=\"Convert this dataframe to an interactive table.\"\n",
              "              style=\"display:none;\">\n",
              "        \n",
              "  <svg xmlns=\"http://www.w3.org/2000/svg\" height=\"24px\"viewBox=\"0 0 24 24\"\n",
              "       width=\"24px\">\n",
              "    <path d=\"M0 0h24v24H0V0z\" fill=\"none\"/>\n",
              "    <path d=\"M18.56 5.44l.94 2.06.94-2.06 2.06-.94-2.06-.94-.94-2.06-.94 2.06-2.06.94zm-11 1L8.5 8.5l.94-2.06 2.06-.94-2.06-.94L8.5 2.5l-.94 2.06-2.06.94zm10 10l.94 2.06.94-2.06 2.06-.94-2.06-.94-.94-2.06-.94 2.06-2.06.94z\"/><path d=\"M17.41 7.96l-1.37-1.37c-.4-.4-.92-.59-1.43-.59-.52 0-1.04.2-1.43.59L10.3 9.45l-7.72 7.72c-.78.78-.78 2.05 0 2.83L4 21.41c.39.39.9.59 1.41.59.51 0 1.02-.2 1.41-.59l7.78-7.78 2.81-2.81c.8-.78.8-2.07 0-2.86zM5.41 20L4 18.59l7.72-7.72 1.47 1.35L5.41 20z\"/>\n",
              "  </svg>\n",
              "      </button>\n",
              "      \n",
              "  <style>\n",
              "    .colab-df-container {\n",
              "      display:flex;\n",
              "      flex-wrap:wrap;\n",
              "      gap: 12px;\n",
              "    }\n",
              "\n",
              "    .colab-df-convert {\n",
              "      background-color: #E8F0FE;\n",
              "      border: none;\n",
              "      border-radius: 50%;\n",
              "      cursor: pointer;\n",
              "      display: none;\n",
              "      fill: #1967D2;\n",
              "      height: 32px;\n",
              "      padding: 0 0 0 0;\n",
              "      width: 32px;\n",
              "    }\n",
              "\n",
              "    .colab-df-convert:hover {\n",
              "      background-color: #E2EBFA;\n",
              "      box-shadow: 0px 1px 2px rgba(60, 64, 67, 0.3), 0px 1px 3px 1px rgba(60, 64, 67, 0.15);\n",
              "      fill: #174EA6;\n",
              "    }\n",
              "\n",
              "    [theme=dark] .colab-df-convert {\n",
              "      background-color: #3B4455;\n",
              "      fill: #D2E3FC;\n",
              "    }\n",
              "\n",
              "    [theme=dark] .colab-df-convert:hover {\n",
              "      background-color: #434B5C;\n",
              "      box-shadow: 0px 1px 3px 1px rgba(0, 0, 0, 0.15);\n",
              "      filter: drop-shadow(0px 1px 2px rgba(0, 0, 0, 0.3));\n",
              "      fill: #FFFFFF;\n",
              "    }\n",
              "  </style>\n",
              "\n",
              "      <script>\n",
              "        const buttonEl =\n",
              "          document.querySelector('#df-995146e4-932c-43cf-a822-e5b7596a6e29 button.colab-df-convert');\n",
              "        buttonEl.style.display =\n",
              "          google.colab.kernel.accessAllowed ? 'block' : 'none';\n",
              "\n",
              "        async function convertToInteractive(key) {\n",
              "          const element = document.querySelector('#df-995146e4-932c-43cf-a822-e5b7596a6e29');\n",
              "          const dataTable =\n",
              "            await google.colab.kernel.invokeFunction('convertToInteractive',\n",
              "                                                     [key], {});\n",
              "          if (!dataTable) return;\n",
              "\n",
              "          const docLinkHtml = 'Like what you see? Visit the ' +\n",
              "            '<a target=\"_blank\" href=https://colab.research.google.com/notebooks/data_table.ipynb>data table notebook</a>'\n",
              "            + ' to learn more about interactive tables.';\n",
              "          element.innerHTML = '';\n",
              "          dataTable['output_type'] = 'display_data';\n",
              "          await google.colab.output.renderOutput(dataTable, element);\n",
              "          const docLink = document.createElement('div');\n",
              "          docLink.innerHTML = docLinkHtml;\n",
              "          element.appendChild(docLink);\n",
              "        }\n",
              "      </script>\n",
              "    </div>\n",
              "  </div>\n",
              "  "
            ]
          },
          "metadata": {},
          "execution_count": 25
        }
      ]
    },
    {
      "cell_type": "markdown",
      "metadata": {
        "id": "zcDbH_KhSG0P"
      },
      "source": [
        "W zasadzie zrobione."
      ]
    },
    {
      "cell_type": "markdown",
      "metadata": {
        "id": "PltrlVVFHVw2"
      },
      "source": [
        "Naturalne jest nastepujące:\n",
        "\n",
        "### Zadanie\n",
        "\n",
        "Ten model jest bardzo prosty. Może da się go wykonac ,,na piechotę''? Dla każdego punktu w zbiorze testowym znaleźć najbliższy mu w zbiorze uczącym (metryka euklidesowa) i przypisać właściwą klasę. Uprośćmy kwestię remisów: w razie braku jednoznaczności (wiecej niż jeden najbliższy sąsiad) możemy zdecydować dowolnie (np. wybierając klasę pierwszego napotkanego).\n",
        "\n",
        "Uwaga na **czas wywołania** &mdash; ograniczmy się do pierwszych 20 wartości ze zbioru testowego."
      ]
    },
    {
      "cell_type": "code",
      "metadata": {
        "id": "ZzmqdKOKTU2b"
      },
      "source": [
        "n = 20\n",
        "yy_pred = np.zeros(n)\n",
        "\n",
        "for i in range(n):\n",
        "  dist = 100 # duża liczba\n",
        "  k = -1 #nierealna wartość\n",
        "  for j in range(len(train)):\n",
        "    dd = ((test.iloc[i, 0] - train.iloc[j, 0])**2 + (test.iloc[i, 1] - train.iloc[j, 1])**2)**(1/2)\n",
        "    if (dd < dist):\n",
        "      dist = dd\n",
        "      k = j\n",
        "  #print(dist, \" \", k)\n",
        "  #print(\"--------------------------\")\n",
        "  yy_pred[i] = train.iloc[k, 2]"
      ],
      "execution_count": 26,
      "outputs": []
    },
    {
      "cell_type": "code",
      "metadata": {
        "colab": {
          "base_uri": "https://localhost:8080/",
          "height": 175
        },
        "id": "iGACG6fjdboM",
        "outputId": "c108f7ba-31bf-4d68-d548-5faabe8fe75f"
      },
      "source": [
        "pd.crosstab(test.iloc[:n,2], yy_pred, rownames=['Faktyczne'], colnames=['Prognoza'])"
      ],
      "execution_count": 27,
      "outputs": [
        {
          "output_type": "execute_result",
          "data": {
            "text/plain": [
              "Prognoza   1.0  2.0  3.0\n",
              "Faktyczne               \n",
              "1            9    0    0\n",
              "2            0    3    1\n",
              "3            2    0    5"
            ],
            "text/html": [
              "\n",
              "  <div id=\"df-3df93c85-9f95-433e-aaab-4e650dc6397d\">\n",
              "    <div class=\"colab-df-container\">\n",
              "      <div>\n",
              "<style scoped>\n",
              "    .dataframe tbody tr th:only-of-type {\n",
              "        vertical-align: middle;\n",
              "    }\n",
              "\n",
              "    .dataframe tbody tr th {\n",
              "        vertical-align: top;\n",
              "    }\n",
              "\n",
              "    .dataframe thead th {\n",
              "        text-align: right;\n",
              "    }\n",
              "</style>\n",
              "<table border=\"1\" class=\"dataframe\">\n",
              "  <thead>\n",
              "    <tr style=\"text-align: right;\">\n",
              "      <th>Prognoza</th>\n",
              "      <th>1.0</th>\n",
              "      <th>2.0</th>\n",
              "      <th>3.0</th>\n",
              "    </tr>\n",
              "    <tr>\n",
              "      <th>Faktyczne</th>\n",
              "      <th></th>\n",
              "      <th></th>\n",
              "      <th></th>\n",
              "    </tr>\n",
              "  </thead>\n",
              "  <tbody>\n",
              "    <tr>\n",
              "      <th>1</th>\n",
              "      <td>9</td>\n",
              "      <td>0</td>\n",
              "      <td>0</td>\n",
              "    </tr>\n",
              "    <tr>\n",
              "      <th>2</th>\n",
              "      <td>0</td>\n",
              "      <td>3</td>\n",
              "      <td>1</td>\n",
              "    </tr>\n",
              "    <tr>\n",
              "      <th>3</th>\n",
              "      <td>2</td>\n",
              "      <td>0</td>\n",
              "      <td>5</td>\n",
              "    </tr>\n",
              "  </tbody>\n",
              "</table>\n",
              "</div>\n",
              "      <button class=\"colab-df-convert\" onclick=\"convertToInteractive('df-3df93c85-9f95-433e-aaab-4e650dc6397d')\"\n",
              "              title=\"Convert this dataframe to an interactive table.\"\n",
              "              style=\"display:none;\">\n",
              "        \n",
              "  <svg xmlns=\"http://www.w3.org/2000/svg\" height=\"24px\"viewBox=\"0 0 24 24\"\n",
              "       width=\"24px\">\n",
              "    <path d=\"M0 0h24v24H0V0z\" fill=\"none\"/>\n",
              "    <path d=\"M18.56 5.44l.94 2.06.94-2.06 2.06-.94-2.06-.94-.94-2.06-.94 2.06-2.06.94zm-11 1L8.5 8.5l.94-2.06 2.06-.94-2.06-.94L8.5 2.5l-.94 2.06-2.06.94zm10 10l.94 2.06.94-2.06 2.06-.94-2.06-.94-.94-2.06-.94 2.06-2.06.94z\"/><path d=\"M17.41 7.96l-1.37-1.37c-.4-.4-.92-.59-1.43-.59-.52 0-1.04.2-1.43.59L10.3 9.45l-7.72 7.72c-.78.78-.78 2.05 0 2.83L4 21.41c.39.39.9.59 1.41.59.51 0 1.02-.2 1.41-.59l7.78-7.78 2.81-2.81c.8-.78.8-2.07 0-2.86zM5.41 20L4 18.59l7.72-7.72 1.47 1.35L5.41 20z\"/>\n",
              "  </svg>\n",
              "      </button>\n",
              "      \n",
              "  <style>\n",
              "    .colab-df-container {\n",
              "      display:flex;\n",
              "      flex-wrap:wrap;\n",
              "      gap: 12px;\n",
              "    }\n",
              "\n",
              "    .colab-df-convert {\n",
              "      background-color: #E8F0FE;\n",
              "      border: none;\n",
              "      border-radius: 50%;\n",
              "      cursor: pointer;\n",
              "      display: none;\n",
              "      fill: #1967D2;\n",
              "      height: 32px;\n",
              "      padding: 0 0 0 0;\n",
              "      width: 32px;\n",
              "    }\n",
              "\n",
              "    .colab-df-convert:hover {\n",
              "      background-color: #E2EBFA;\n",
              "      box-shadow: 0px 1px 2px rgba(60, 64, 67, 0.3), 0px 1px 3px 1px rgba(60, 64, 67, 0.15);\n",
              "      fill: #174EA6;\n",
              "    }\n",
              "\n",
              "    [theme=dark] .colab-df-convert {\n",
              "      background-color: #3B4455;\n",
              "      fill: #D2E3FC;\n",
              "    }\n",
              "\n",
              "    [theme=dark] .colab-df-convert:hover {\n",
              "      background-color: #434B5C;\n",
              "      box-shadow: 0px 1px 3px 1px rgba(0, 0, 0, 0.15);\n",
              "      filter: drop-shadow(0px 1px 2px rgba(0, 0, 0, 0.3));\n",
              "      fill: #FFFFFF;\n",
              "    }\n",
              "  </style>\n",
              "\n",
              "      <script>\n",
              "        const buttonEl =\n",
              "          document.querySelector('#df-3df93c85-9f95-433e-aaab-4e650dc6397d button.colab-df-convert');\n",
              "        buttonEl.style.display =\n",
              "          google.colab.kernel.accessAllowed ? 'block' : 'none';\n",
              "\n",
              "        async function convertToInteractive(key) {\n",
              "          const element = document.querySelector('#df-3df93c85-9f95-433e-aaab-4e650dc6397d');\n",
              "          const dataTable =\n",
              "            await google.colab.kernel.invokeFunction('convertToInteractive',\n",
              "                                                     [key], {});\n",
              "          if (!dataTable) return;\n",
              "\n",
              "          const docLinkHtml = 'Like what you see? Visit the ' +\n",
              "            '<a target=\"_blank\" href=https://colab.research.google.com/notebooks/data_table.ipynb>data table notebook</a>'\n",
              "            + ' to learn more about interactive tables.';\n",
              "          element.innerHTML = '';\n",
              "          dataTable['output_type'] = 'display_data';\n",
              "          await google.colab.output.renderOutput(dataTable, element);\n",
              "          const docLink = document.createElement('div');\n",
              "          docLink.innerHTML = docLinkHtml;\n",
              "          element.appendChild(docLink);\n",
              "        }\n",
              "      </script>\n",
              "    </div>\n",
              "  </div>\n",
              "  "
            ]
          },
          "metadata": {},
          "execution_count": 27
        }
      ]
    },
    {
      "cell_type": "markdown",
      "metadata": {
        "id": "uxONzMwCeZhJ"
      },
      "source": [
        "Widać, że trwa to za długo. Dlatego trzeba pomyśleć o lepszej strukturze danych i zorganizowaniu obliczeń.\n",
        "\n",
        "## Podejcie przez $kd$-drzewa\n",
        "\n",
        "Pomocniczym narzędziem będzie funkcja do wyznaczania mediany, realizowana we wcześniejszym zadaniu, zmodyfikowana tylko o dodanie wielu wymiarów &mdash; na raz obsługuje się jeden, wybrany."
      ]
    },
    {
      "cell_type": "code",
      "metadata": {
        "id": "LV_CMO0yejaL"
      },
      "source": [
        "def QPos(d, g, m, dim):\n",
        "  #pomocnicza procedura - sortuje fragment między d a g\n",
        "  if (d < g): \n",
        "    x = tablica[np.random.randint(d, g), dim]\n",
        "  else:\n",
        "    x = tablica[d, dim]\n",
        "  # podział elementów\n",
        "  i = d\n",
        "  j = g\n",
        "  while i <= j:\n",
        "    while tablica[i, dim] < x:\n",
        "      i += 1\n",
        "    while tablica[j, dim] > x:\n",
        "      j -= 1\n",
        "    if i <= j: #zamiana\n",
        "      tablica[i], tablica[j] = tablica[j].copy(), tablica[i].copy()\n",
        "      i += 1\n",
        "      j -= 1\n",
        "  # rekurencyjne wywołanie\n",
        "  if d < j and m <= j:\n",
        "    QPos(d, j, m, dim)\n",
        "  if i < g and m >= i:\n",
        "    QPos(i, g, m, dim)"
      ],
      "execution_count": 28,
      "outputs": []
    },
    {
      "cell_type": "markdown",
      "metadata": {
        "id": "o-UoXfEsf_Sh"
      },
      "source": [
        "Sprawdźmy jak to działa"
      ]
    },
    {
      "cell_type": "code",
      "metadata": {
        "colab": {
          "base_uri": "https://localhost:8080/"
        },
        "id": "FYB82UQwf6qg",
        "outputId": "3492bde2-e721-481c-e465-bfa22f74795c"
      },
      "source": [
        "tablica = train.iloc[:15,::].values.copy()\n",
        "print(tablica)"
      ],
      "execution_count": 29,
      "outputs": [
        {
          "output_type": "stream",
          "name": "stdout",
          "text": [
            "[[ 0.76774942 -1.17665442  1.        ]\n",
            " [ 0.17273479 -0.57694783  3.        ]\n",
            " [ 0.44133935  0.38238156  3.        ]\n",
            " [-0.34560289 -0.05898724  3.        ]\n",
            " [-0.84428058  0.42679995  3.        ]\n",
            " [-0.48047862 -0.65843195  3.        ]\n",
            " [-0.70398414  1.27653672  2.        ]\n",
            " [-0.23668734  0.05954071  3.        ]\n",
            " [-0.39110304  1.32357784  2.        ]\n",
            " [-1.10778104 -0.99693314  1.        ]\n",
            " [ 1.11112495 -1.62810701  1.        ]\n",
            " [-0.07412579 -1.74436852  1.        ]\n",
            " [-0.15738929  1.27731379  2.        ]\n",
            " [ 0.06171495 -0.98340774  1.        ]\n",
            " [-1.45554578  1.20803872  2.        ]]\n"
          ]
        }
      ]
    },
    {
      "cell_type": "code",
      "metadata": {
        "colab": {
          "base_uri": "https://localhost:8080/"
        },
        "id": "oBP7MYEygLdP",
        "outputId": "e6153c9b-fb20-4275-c7f0-566aad2910c9"
      },
      "source": [
        "QPos(0, len(tablica)-1, 7, 0)\n",
        "wynik = tablica[7]\n",
        "print(wynik)\n",
        "print(tablica)"
      ],
      "execution_count": 30,
      "outputs": [
        {
          "output_type": "stream",
          "name": "stdout",
          "text": [
            "[-0.23668734  0.05954071  3.        ]\n",
            "[[-1.45554578  1.20803872  2.        ]\n",
            " [-0.39110304  1.32357784  2.        ]\n",
            " [-1.10778104 -0.99693314  1.        ]\n",
            " [-0.34560289 -0.05898724  3.        ]\n",
            " [-0.84428058  0.42679995  3.        ]\n",
            " [-0.48047862 -0.65843195  3.        ]\n",
            " [-0.70398414  1.27653672  2.        ]\n",
            " [-0.23668734  0.05954071  3.        ]\n",
            " [-0.15738929  1.27731379  2.        ]\n",
            " [-0.07412579 -1.74436852  1.        ]\n",
            " [ 1.11112495 -1.62810701  1.        ]\n",
            " [ 0.44133935  0.38238156  3.        ]\n",
            " [ 0.17273479 -0.57694783  3.        ]\n",
            " [ 0.06171495 -0.98340774  1.        ]\n",
            " [ 0.76774942 -1.17665442  1.        ]]\n"
          ]
        }
      ]
    },
    {
      "cell_type": "markdown",
      "metadata": {
        "id": "N_XMQ6tQ2l3k"
      },
      "source": [
        "Zaczynamy tworzyć drzewo w oparciu o wielowymiarową tablicę."
      ]
    },
    {
      "cell_type": "code",
      "metadata": {
        "id": "E0y9ZpdS14f8"
      },
      "source": [
        "def new_node(d, g):\n",
        "  return {'d': d, 'g': g, 'val' : None, 'dim': None, 'left': None, 'right': None}"
      ],
      "execution_count": 31,
      "outputs": []
    },
    {
      "cell_type": "code",
      "metadata": {
        "colab": {
          "base_uri": "https://localhost:8080/"
        },
        "id": "4dRZot6Y22Bs",
        "outputId": "c28d19d4-b6f3-48f0-ddd0-7e835ae5b34f"
      },
      "source": [
        "tablica = train.values.copy()\n",
        "print(len(tablica))\n",
        "root = new_node(0, len(tablica)-1)"
      ],
      "execution_count": 32,
      "outputs": [
        {
          "output_type": "stream",
          "name": "stdout",
          "text": [
            "8030\n"
          ]
        }
      ]
    },
    {
      "cell_type": "code",
      "metadata": {
        "id": "Lfb0gIi13GHo"
      },
      "source": [
        "def split_data(t):\n",
        "  if t['d'] < t['g'] : # więcej niż jeden element\n",
        "    dim = np.random.randint(0,2)\n",
        "    t['dim'] = dim\n",
        "    m = (t['d']+t['g']+1)//2\n",
        "    QPos(t['d'], t['g'], m, dim) #podział według losowego wymiaru\n",
        "    t['val'] = tablica[m, dim]\n",
        "    t['left'] = new_node(t['d'], m-1)\n",
        "    t['right'] = new_node(m, t['g'])\n",
        "    split_data(t['left'])\n",
        "    split_data(t['right'])\n",
        "\n",
        "split_data(root)"
      ],
      "execution_count": 33,
      "outputs": []
    },
    {
      "cell_type": "code",
      "metadata": {
        "id": "t9K9IOuJL8d_"
      },
      "source": [
        "def find_element(t, x, dist):\n",
        "  global mindist\n",
        "  global minindex\n",
        "  if t['dim'] is None:\n",
        "    # liśc - jest wartość\n",
        "    j = t['d']\n",
        "    dd = ((tablica[j,0]-x[0])**2 + (tablica[j,1]-x[1])**2)**(1/2)\n",
        "    if dd < mindist:\n",
        "      mindist = dd\n",
        "      minindex = j\n",
        "  else:\n",
        "    dim = t['dim']\n",
        "    val = t['val']\n",
        "    if x[dim] < val:\n",
        "      find_element(t['left'], x, dist)\n",
        "      newdist = dist.copy()\n",
        "      newdist[dim] = val - x[dim]\n",
        "      if (newdist[0]**2 + newdist[1]**2)**(1/2) < mindist:\n",
        "        find_element(t['right'], x, newdist)\n",
        "    else:\n",
        "      find_element(t['right'], x, dist)\n",
        "      newdist = dist.copy()\n",
        "      newdist[dim] = x[dim] - val\n",
        "      if (newdist[0]**2 + newdist[1]**2)**(1/2) < mindist:\n",
        "        find_element(t['left'], x, newdist)\n"
      ],
      "execution_count": 34,
      "outputs": []
    },
    {
      "cell_type": "code",
      "metadata": {
        "colab": {
          "base_uri": "https://localhost:8080/",
          "height": 175
        },
        "id": "n6yJQAJDaAyJ",
        "outputId": "40294cac-c823-451e-cc20-27a953e8440f"
      },
      "source": [
        "n = 20\n",
        "yy_pred = np.zeros(n)\n",
        "\n",
        "for i in range(n):\n",
        "  mindist = 100 # duża liczba\n",
        "  minindex = -1 #nierealna wartość\n",
        "  find_element(root, test.iloc[i,:], [0, 0])\n",
        "  #print(mindist, \" \", minindex)\n",
        "  #print(\"--------------------------\")\n",
        "  yy_pred[i] = tablica[minindex, 2] \n",
        "  \n",
        "pd.crosstab(test.iloc[:n,2], yy_pred, rownames=['Faktyczne'], colnames=['Prognoza'])"
      ],
      "execution_count": 35,
      "outputs": [
        {
          "output_type": "execute_result",
          "data": {
            "text/plain": [
              "Prognoza   1.0  2.0  3.0\n",
              "Faktyczne               \n",
              "1            9    0    0\n",
              "2            0    3    1\n",
              "3            2    0    5"
            ],
            "text/html": [
              "\n",
              "  <div id=\"df-f38a2832-fa30-4bbc-a388-048c8546bc48\">\n",
              "    <div class=\"colab-df-container\">\n",
              "      <div>\n",
              "<style scoped>\n",
              "    .dataframe tbody tr th:only-of-type {\n",
              "        vertical-align: middle;\n",
              "    }\n",
              "\n",
              "    .dataframe tbody tr th {\n",
              "        vertical-align: top;\n",
              "    }\n",
              "\n",
              "    .dataframe thead th {\n",
              "        text-align: right;\n",
              "    }\n",
              "</style>\n",
              "<table border=\"1\" class=\"dataframe\">\n",
              "  <thead>\n",
              "    <tr style=\"text-align: right;\">\n",
              "      <th>Prognoza</th>\n",
              "      <th>1.0</th>\n",
              "      <th>2.0</th>\n",
              "      <th>3.0</th>\n",
              "    </tr>\n",
              "    <tr>\n",
              "      <th>Faktyczne</th>\n",
              "      <th></th>\n",
              "      <th></th>\n",
              "      <th></th>\n",
              "    </tr>\n",
              "  </thead>\n",
              "  <tbody>\n",
              "    <tr>\n",
              "      <th>1</th>\n",
              "      <td>9</td>\n",
              "      <td>0</td>\n",
              "      <td>0</td>\n",
              "    </tr>\n",
              "    <tr>\n",
              "      <th>2</th>\n",
              "      <td>0</td>\n",
              "      <td>3</td>\n",
              "      <td>1</td>\n",
              "    </tr>\n",
              "    <tr>\n",
              "      <th>3</th>\n",
              "      <td>2</td>\n",
              "      <td>0</td>\n",
              "      <td>5</td>\n",
              "    </tr>\n",
              "  </tbody>\n",
              "</table>\n",
              "</div>\n",
              "      <button class=\"colab-df-convert\" onclick=\"convertToInteractive('df-f38a2832-fa30-4bbc-a388-048c8546bc48')\"\n",
              "              title=\"Convert this dataframe to an interactive table.\"\n",
              "              style=\"display:none;\">\n",
              "        \n",
              "  <svg xmlns=\"http://www.w3.org/2000/svg\" height=\"24px\"viewBox=\"0 0 24 24\"\n",
              "       width=\"24px\">\n",
              "    <path d=\"M0 0h24v24H0V0z\" fill=\"none\"/>\n",
              "    <path d=\"M18.56 5.44l.94 2.06.94-2.06 2.06-.94-2.06-.94-.94-2.06-.94 2.06-2.06.94zm-11 1L8.5 8.5l.94-2.06 2.06-.94-2.06-.94L8.5 2.5l-.94 2.06-2.06.94zm10 10l.94 2.06.94-2.06 2.06-.94-2.06-.94-.94-2.06-.94 2.06-2.06.94z\"/><path d=\"M17.41 7.96l-1.37-1.37c-.4-.4-.92-.59-1.43-.59-.52 0-1.04.2-1.43.59L10.3 9.45l-7.72 7.72c-.78.78-.78 2.05 0 2.83L4 21.41c.39.39.9.59 1.41.59.51 0 1.02-.2 1.41-.59l7.78-7.78 2.81-2.81c.8-.78.8-2.07 0-2.86zM5.41 20L4 18.59l7.72-7.72 1.47 1.35L5.41 20z\"/>\n",
              "  </svg>\n",
              "      </button>\n",
              "      \n",
              "  <style>\n",
              "    .colab-df-container {\n",
              "      display:flex;\n",
              "      flex-wrap:wrap;\n",
              "      gap: 12px;\n",
              "    }\n",
              "\n",
              "    .colab-df-convert {\n",
              "      background-color: #E8F0FE;\n",
              "      border: none;\n",
              "      border-radius: 50%;\n",
              "      cursor: pointer;\n",
              "      display: none;\n",
              "      fill: #1967D2;\n",
              "      height: 32px;\n",
              "      padding: 0 0 0 0;\n",
              "      width: 32px;\n",
              "    }\n",
              "\n",
              "    .colab-df-convert:hover {\n",
              "      background-color: #E2EBFA;\n",
              "      box-shadow: 0px 1px 2px rgba(60, 64, 67, 0.3), 0px 1px 3px 1px rgba(60, 64, 67, 0.15);\n",
              "      fill: #174EA6;\n",
              "    }\n",
              "\n",
              "    [theme=dark] .colab-df-convert {\n",
              "      background-color: #3B4455;\n",
              "      fill: #D2E3FC;\n",
              "    }\n",
              "\n",
              "    [theme=dark] .colab-df-convert:hover {\n",
              "      background-color: #434B5C;\n",
              "      box-shadow: 0px 1px 3px 1px rgba(0, 0, 0, 0.15);\n",
              "      filter: drop-shadow(0px 1px 2px rgba(0, 0, 0, 0.3));\n",
              "      fill: #FFFFFF;\n",
              "    }\n",
              "  </style>\n",
              "\n",
              "      <script>\n",
              "        const buttonEl =\n",
              "          document.querySelector('#df-f38a2832-fa30-4bbc-a388-048c8546bc48 button.colab-df-convert');\n",
              "        buttonEl.style.display =\n",
              "          google.colab.kernel.accessAllowed ? 'block' : 'none';\n",
              "\n",
              "        async function convertToInteractive(key) {\n",
              "          const element = document.querySelector('#df-f38a2832-fa30-4bbc-a388-048c8546bc48');\n",
              "          const dataTable =\n",
              "            await google.colab.kernel.invokeFunction('convertToInteractive',\n",
              "                                                     [key], {});\n",
              "          if (!dataTable) return;\n",
              "\n",
              "          const docLinkHtml = 'Like what you see? Visit the ' +\n",
              "            '<a target=\"_blank\" href=https://colab.research.google.com/notebooks/data_table.ipynb>data table notebook</a>'\n",
              "            + ' to learn more about interactive tables.';\n",
              "          element.innerHTML = '';\n",
              "          dataTable['output_type'] = 'display_data';\n",
              "          await google.colab.output.renderOutput(dataTable, element);\n",
              "          const docLink = document.createElement('div');\n",
              "          docLink.innerHTML = docLinkHtml;\n",
              "          element.appendChild(docLink);\n",
              "        }\n",
              "      </script>\n",
              "    </div>\n",
              "  </div>\n",
              "  "
            ]
          },
          "metadata": {},
          "execution_count": 35
        }
      ]
    },
    {
      "cell_type": "markdown",
      "metadata": {
        "id": "tO8-sfO_e_9x"
      },
      "source": [
        "Skoro działa szybko, sprawnie i skutecznie, sprawdźmy na pełnym zbiorze treningowym. Wynik w 1,142s (trochę gorzej niż *sklearn* &mdash; około 0,3s, ale akceptowalnie). Wyniki są takie same &mdash; to znaczy, że nie było remisów."
      ]
    },
    {
      "cell_type": "code",
      "metadata": {
        "colab": {
          "base_uri": "https://localhost:8080/",
          "height": 175
        },
        "id": "scgqlFBlfFyq",
        "outputId": "87a4e44f-52ff-4de9-f6c7-62bbf6643cf0"
      },
      "source": [
        "n = len(test)\n",
        "yy_pred = np.zeros(n)\n",
        "\n",
        "for i in range(n):\n",
        "  mindist = 100 # duża liczba\n",
        "  minindex = -1 #nierealna wartość\n",
        "  find_element(root, test.iloc[i,:], [0, 0])\n",
        "  yy_pred[i] = tablica[minindex, 2] \n",
        "\n",
        "pd.crosstab(test.iloc[:n,2], yy_pred, rownames=['Faktyczne'], colnames=['Prognoza'])"
      ],
      "execution_count": 36,
      "outputs": [
        {
          "output_type": "execute_result",
          "data": {
            "text/plain": [
              "Prognoza   1.0  2.0  3.0\n",
              "Faktyczne               \n",
              "1          740    0   41\n",
              "2            0  749   56\n",
              "3           50   37  297"
            ],
            "text/html": [
              "\n",
              "  <div id=\"df-d5675064-2109-4ca8-b353-be9f7768c5d4\">\n",
              "    <div class=\"colab-df-container\">\n",
              "      <div>\n",
              "<style scoped>\n",
              "    .dataframe tbody tr th:only-of-type {\n",
              "        vertical-align: middle;\n",
              "    }\n",
              "\n",
              "    .dataframe tbody tr th {\n",
              "        vertical-align: top;\n",
              "    }\n",
              "\n",
              "    .dataframe thead th {\n",
              "        text-align: right;\n",
              "    }\n",
              "</style>\n",
              "<table border=\"1\" class=\"dataframe\">\n",
              "  <thead>\n",
              "    <tr style=\"text-align: right;\">\n",
              "      <th>Prognoza</th>\n",
              "      <th>1.0</th>\n",
              "      <th>2.0</th>\n",
              "      <th>3.0</th>\n",
              "    </tr>\n",
              "    <tr>\n",
              "      <th>Faktyczne</th>\n",
              "      <th></th>\n",
              "      <th></th>\n",
              "      <th></th>\n",
              "    </tr>\n",
              "  </thead>\n",
              "  <tbody>\n",
              "    <tr>\n",
              "      <th>1</th>\n",
              "      <td>740</td>\n",
              "      <td>0</td>\n",
              "      <td>41</td>\n",
              "    </tr>\n",
              "    <tr>\n",
              "      <th>2</th>\n",
              "      <td>0</td>\n",
              "      <td>749</td>\n",
              "      <td>56</td>\n",
              "    </tr>\n",
              "    <tr>\n",
              "      <th>3</th>\n",
              "      <td>50</td>\n",
              "      <td>37</td>\n",
              "      <td>297</td>\n",
              "    </tr>\n",
              "  </tbody>\n",
              "</table>\n",
              "</div>\n",
              "      <button class=\"colab-df-convert\" onclick=\"convertToInteractive('df-d5675064-2109-4ca8-b353-be9f7768c5d4')\"\n",
              "              title=\"Convert this dataframe to an interactive table.\"\n",
              "              style=\"display:none;\">\n",
              "        \n",
              "  <svg xmlns=\"http://www.w3.org/2000/svg\" height=\"24px\"viewBox=\"0 0 24 24\"\n",
              "       width=\"24px\">\n",
              "    <path d=\"M0 0h24v24H0V0z\" fill=\"none\"/>\n",
              "    <path d=\"M18.56 5.44l.94 2.06.94-2.06 2.06-.94-2.06-.94-.94-2.06-.94 2.06-2.06.94zm-11 1L8.5 8.5l.94-2.06 2.06-.94-2.06-.94L8.5 2.5l-.94 2.06-2.06.94zm10 10l.94 2.06.94-2.06 2.06-.94-2.06-.94-.94-2.06-.94 2.06-2.06.94z\"/><path d=\"M17.41 7.96l-1.37-1.37c-.4-.4-.92-.59-1.43-.59-.52 0-1.04.2-1.43.59L10.3 9.45l-7.72 7.72c-.78.78-.78 2.05 0 2.83L4 21.41c.39.39.9.59 1.41.59.51 0 1.02-.2 1.41-.59l7.78-7.78 2.81-2.81c.8-.78.8-2.07 0-2.86zM5.41 20L4 18.59l7.72-7.72 1.47 1.35L5.41 20z\"/>\n",
              "  </svg>\n",
              "      </button>\n",
              "      \n",
              "  <style>\n",
              "    .colab-df-container {\n",
              "      display:flex;\n",
              "      flex-wrap:wrap;\n",
              "      gap: 12px;\n",
              "    }\n",
              "\n",
              "    .colab-df-convert {\n",
              "      background-color: #E8F0FE;\n",
              "      border: none;\n",
              "      border-radius: 50%;\n",
              "      cursor: pointer;\n",
              "      display: none;\n",
              "      fill: #1967D2;\n",
              "      height: 32px;\n",
              "      padding: 0 0 0 0;\n",
              "      width: 32px;\n",
              "    }\n",
              "\n",
              "    .colab-df-convert:hover {\n",
              "      background-color: #E2EBFA;\n",
              "      box-shadow: 0px 1px 2px rgba(60, 64, 67, 0.3), 0px 1px 3px 1px rgba(60, 64, 67, 0.15);\n",
              "      fill: #174EA6;\n",
              "    }\n",
              "\n",
              "    [theme=dark] .colab-df-convert {\n",
              "      background-color: #3B4455;\n",
              "      fill: #D2E3FC;\n",
              "    }\n",
              "\n",
              "    [theme=dark] .colab-df-convert:hover {\n",
              "      background-color: #434B5C;\n",
              "      box-shadow: 0px 1px 3px 1px rgba(0, 0, 0, 0.15);\n",
              "      filter: drop-shadow(0px 1px 2px rgba(0, 0, 0, 0.3));\n",
              "      fill: #FFFFFF;\n",
              "    }\n",
              "  </style>\n",
              "\n",
              "      <script>\n",
              "        const buttonEl =\n",
              "          document.querySelector('#df-d5675064-2109-4ca8-b353-be9f7768c5d4 button.colab-df-convert');\n",
              "        buttonEl.style.display =\n",
              "          google.colab.kernel.accessAllowed ? 'block' : 'none';\n",
              "\n",
              "        async function convertToInteractive(key) {\n",
              "          const element = document.querySelector('#df-d5675064-2109-4ca8-b353-be9f7768c5d4');\n",
              "          const dataTable =\n",
              "            await google.colab.kernel.invokeFunction('convertToInteractive',\n",
              "                                                     [key], {});\n",
              "          if (!dataTable) return;\n",
              "\n",
              "          const docLinkHtml = 'Like what you see? Visit the ' +\n",
              "            '<a target=\"_blank\" href=https://colab.research.google.com/notebooks/data_table.ipynb>data table notebook</a>'\n",
              "            + ' to learn more about interactive tables.';\n",
              "          element.innerHTML = '';\n",
              "          dataTable['output_type'] = 'display_data';\n",
              "          await google.colab.output.renderOutput(dataTable, element);\n",
              "          const docLink = document.createElement('div');\n",
              "          docLink.innerHTML = docLinkHtml;\n",
              "          element.appendChild(docLink);\n",
              "        }\n",
              "      </script>\n",
              "    </div>\n",
              "  </div>\n",
              "  "
            ]
          },
          "metadata": {},
          "execution_count": 36
        }
      ]
    }
  ]
}